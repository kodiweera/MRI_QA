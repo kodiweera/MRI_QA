{
 "metadata": {
  "name": "",
  "signature": "sha256:baa6100a489e7ac3336ce8b6babd8ccc7867967b0fa75e9c6df4ef8cf9d50558"
 },
 "nbformat": 3,
 "nbformat_minor": 0,
 "worksheets": [
  {
   "cells": [
    {
     "cell_type": "code",
     "collapsed": false,
     "input": [
      "import os\n",
      "from lxml import etree"
     ],
     "language": "python",
     "metadata": {},
     "outputs": [],
     "prompt_number": 33
    },
    {
     "cell_type": "code",
     "collapsed": false,
     "input": [],
     "language": "python",
     "metadata": {},
     "outputs": [],
     "prompt_number": 33
    },
    {
     "cell_type": "code",
     "collapsed": false,
     "input": [
      "import os, sys\n",
      "os.system('sh copyxml.sh') #copy summaryQA.xml files into /data/QA/prisma/32CH/birnout\n",
      "\n"
     ],
     "language": "python",
     "metadata": {},
     "outputs": [
      {
       "metadata": {},
       "output_type": "pyout",
       "prompt_number": 34,
       "text": [
        "0"
       ]
      }
     ],
     "prompt_number": 34
    },
    {
     "cell_type": "code",
     "collapsed": false,
     "input": [
      "for f in os.listdir('/data/QA/prisma/32CH/birnout'):\n",
      "    print(f)\n",
      "    "
     ],
     "language": "python",
     "metadata": {},
     "outputs": [
      {
       "output_type": "stream",
       "stream": "stdout",
       "text": [
        "summaryQA_11.xml\n",
        "summaryQA_7.xml\n",
        "summaryQA_16.xml\n",
        "summaryQA_0.xml\n",
        "summaryQA_18.xml\n",
        "summaryQA_9.xml\n",
        "summaryQA_22.xml\n",
        "summaryQA_8.xml\n",
        "summaryQA_19.xml\n",
        "summaryQA_17.xml\n",
        "summaryQA_1.xml\n",
        "summaryQA_10.xml\n",
        "summaryQA_6.xml\n",
        "summaryQA_21.xml\n",
        "summaryQA_13.xml\n",
        "summaryQA_5.xml\n",
        "summaryQA_14.xml\n",
        "summaryQA_2.xml\n",
        "summaryQA_15.xml\n",
        "summaryQA_3.xml\n",
        "summaryQA_12.xml\n",
        "summaryQA_4.xml\n",
        "summaryQA_20.xml\n"
       ]
      }
     ],
     "prompt_number": 35
    },
    {
     "cell_type": "code",
     "collapsed": false,
     "input": [
      "os.getcwd()"
     ],
     "language": "python",
     "metadata": {},
     "outputs": [
      {
       "metadata": {},
       "output_type": "pyout",
       "prompt_number": 36,
       "text": [
        "'/data/QA/prisma/32CH/gitqa/MRI_QA'"
       ]
      }
     ],
     "prompt_number": 36
    },
    {
     "cell_type": "code",
     "collapsed": false,
     "input": [
      "data = []\n",
      "topdir = '/data/QA/prisma/32CH/birnout'\n",
      "for filename in os.listdir(topdir):\n",
      "    try:\n",
      "        e = etree.parse(os.path.join(topdir, filename)).getroot()\n",
      "        print(\"Loaded %s\" % filename)\n",
      "    except:\n",
      "        print(\"Failed to load %s\" % filename)\n",
      "        continue\n",
      "    data.append({\n",
      "        k: t(e.xpath(\n",
      "            \"//a:observation[@name='%s']\" % k,\n",
      "            namespaces={'a': 'http://www.xcede.org/xcede-2'})[0].text)\n",
      "        for k, t in (('SNR', float), ('SFNR', float), ('scandate', str), ('drift',float), ('mean',float),('rdc',float))\n",
      "        })\n",
      "    \n",
      "    "
     ],
     "language": "python",
     "metadata": {},
     "outputs": [
      {
       "output_type": "stream",
       "stream": "stdout",
       "text": [
        "Loaded summaryQA_11.xml\n",
        "Loaded summaryQA_7.xml"
       ]
      },
      {
       "output_type": "stream",
       "stream": "stdout",
       "text": [
        "\n",
        "Loaded summaryQA_16.xml"
       ]
      },
      {
       "output_type": "stream",
       "stream": "stdout",
       "text": [
        "\n",
        "Loaded summaryQA_0.xml"
       ]
      },
      {
       "output_type": "stream",
       "stream": "stdout",
       "text": [
        "\n",
        "Loaded summaryQA_18.xml"
       ]
      },
      {
       "output_type": "stream",
       "stream": "stdout",
       "text": [
        "\n",
        "Loaded summaryQA_9.xml\n",
        "Loaded summaryQA_22.xml"
       ]
      },
      {
       "output_type": "stream",
       "stream": "stdout",
       "text": [
        "\n",
        "Loaded summaryQA_8.xml"
       ]
      },
      {
       "output_type": "stream",
       "stream": "stdout",
       "text": [
        "\n",
        "Loaded summaryQA_19.xml\n",
        "Loaded summaryQA_17.xml"
       ]
      },
      {
       "output_type": "stream",
       "stream": "stdout",
       "text": [
        "\n",
        "Loaded summaryQA_1.xml"
       ]
      },
      {
       "output_type": "stream",
       "stream": "stdout",
       "text": [
        "\n",
        "Loaded summaryQA_10.xml\n",
        "Loaded summaryQA_6.xml"
       ]
      },
      {
       "output_type": "stream",
       "stream": "stdout",
       "text": [
        "\n",
        "Loaded summaryQA_21.xml"
       ]
      },
      {
       "output_type": "stream",
       "stream": "stdout",
       "text": [
        "\n",
        "Loaded summaryQA_13.xml\n",
        "Loaded summaryQA_5.xml"
       ]
      },
      {
       "output_type": "stream",
       "stream": "stdout",
       "text": [
        "\n",
        "Loaded summaryQA_14.xml\n",
        "Loaded summaryQA_2.xml"
       ]
      },
      {
       "output_type": "stream",
       "stream": "stdout",
       "text": [
        "\n",
        "Loaded summaryQA_15.xml\n",
        "Loaded summaryQA_3.xml"
       ]
      },
      {
       "output_type": "stream",
       "stream": "stdout",
       "text": [
        "\n",
        "Loaded summaryQA_12.xml"
       ]
      },
      {
       "output_type": "stream",
       "stream": "stdout",
       "text": [
        "\n",
        "Loaded summaryQA_4.xml"
       ]
      },
      {
       "output_type": "stream",
       "stream": "stdout",
       "text": [
        "\n",
        "Loaded summaryQA_20.xml"
       ]
      },
      {
       "output_type": "stream",
       "stream": "stdout",
       "text": [
        "\n"
       ]
      }
     ],
     "prompt_number": 37
    },
    {
     "cell_type": "code",
     "collapsed": false,
     "input": [],
     "language": "python",
     "metadata": {},
     "outputs": [],
     "prompt_number": 121
    },
    {
     "cell_type": "code",
     "collapsed": false,
     "input": [],
     "language": "python",
     "metadata": {},
     "outputs": [],
     "prompt_number": 121
    },
    {
     "cell_type": "code",
     "collapsed": false,
     "input": [
      "import pandas as pd"
     ],
     "language": "python",
     "metadata": {},
     "outputs": [],
     "prompt_number": 122
    },
    {
     "cell_type": "code",
     "collapsed": false,
     "input": [
      "frame = pd.DataFrame(data)"
     ],
     "language": "python",
     "metadata": {},
     "outputs": [],
     "prompt_number": 123
    },
    {
     "cell_type": "code",
     "collapsed": false,
     "input": [
      "frame"
     ],
     "language": "python",
     "metadata": {},
     "outputs": [
      {
       "html": [
        "<div style=\"max-width:1500px;overflow:auto;\">\n",
        "<table border=\"1\" class=\"dataframe\">\n",
        "  <thead>\n",
        "    <tr style=\"text-align: right;\">\n",
        "      <th></th>\n",
        "      <th>SFNR</th>\n",
        "      <th>SNR</th>\n",
        "      <th>drift</th>\n",
        "      <th>mean</th>\n",
        "      <th>rdc</th>\n",
        "      <th>scandate</th>\n",
        "    </tr>\n",
        "  </thead>\n",
        "  <tbody>\n",
        "    <tr>\n",
        "      <th>0</th>\n",
        "      <td>243.4</td>\n",
        "      <td>257.6</td>\n",
        "      <td>0.34</td>\n",
        "      <td>1531.1</td>\n",
        "      <td>8.1</td>\n",
        "      <td>2016-10-05</td>\n",
        "    </tr>\n",
        "    <tr>\n",
        "      <th>1</th>\n",
        "      <td>254.5</td>\n",
        "      <td>261.0</td>\n",
        "      <td>0.31</td>\n",
        "      <td>1450.5</td>\n",
        "      <td>8.6</td>\n",
        "      <td>2017-02-27</td>\n",
        "    </tr>\n",
        "    <tr>\n",
        "      <th>2</th>\n",
        "      <td>272.7</td>\n",
        "      <td>251.7</td>\n",
        "      <td>0.19</td>\n",
        "      <td>1543.0</td>\n",
        "      <td>10.5</td>\n",
        "      <td>2016-11-07</td>\n",
        "    </tr>\n",
        "    <tr>\n",
        "      <th>3</th>\n",
        "      <td>175.9</td>\n",
        "      <td>175.6</td>\n",
        "      <td>0.45</td>\n",
        "      <td>1220.2</td>\n",
        "      <td>14.1</td>\n",
        "      <td>2017-01-03</td>\n",
        "    </tr>\n",
        "    <tr>\n",
        "      <th>4</th>\n",
        "      <td>228.0</td>\n",
        "      <td>224.3</td>\n",
        "      <td>0.28</td>\n",
        "      <td>1431.1</td>\n",
        "      <td>9.0</td>\n",
        "      <td>2016-11-21</td>\n",
        "    </tr>\n",
        "    <tr>\n",
        "      <th>5</th>\n",
        "      <td>216.0</td>\n",
        "      <td>259.6</td>\n",
        "      <td>0.42</td>\n",
        "      <td>1431.9</td>\n",
        "      <td>9.6</td>\n",
        "      <td>2016-09-19</td>\n",
        "    </tr>\n",
        "    <tr>\n",
        "      <th>6</th>\n",
        "      <td>219.7</td>\n",
        "      <td>215.0</td>\n",
        "      <td>0.26</td>\n",
        "      <td>1344.0</td>\n",
        "      <td>10.1</td>\n",
        "      <td>2016-12-19</td>\n",
        "    </tr>\n",
        "    <tr>\n",
        "      <th>7</th>\n",
        "      <td>196.7</td>\n",
        "      <td>220.7</td>\n",
        "      <td>0.27</td>\n",
        "      <td>1432.8</td>\n",
        "      <td>8.6</td>\n",
        "      <td>2016-09-12</td>\n",
        "    </tr>\n",
        "    <tr>\n",
        "      <th>8</th>\n",
        "      <td>222.9</td>\n",
        "      <td>221.1</td>\n",
        "      <td>0.46</td>\n",
        "      <td>1371.7</td>\n",
        "      <td>9.7</td>\n",
        "      <td>2016-11-28</td>\n",
        "    </tr>\n",
        "    <tr>\n",
        "      <th>9</th>\n",
        "      <td>231.8</td>\n",
        "      <td>222.0</td>\n",
        "      <td>0.31</td>\n",
        "      <td>1512.1</td>\n",
        "      <td>10.8</td>\n",
        "      <td>2016-11-14</td>\n",
        "    </tr>\n",
        "    <tr>\n",
        "      <th>10</th>\n",
        "      <td>252.1</td>\n",
        "      <td>250.4</td>\n",
        "      <td>0.28</td>\n",
        "      <td>1412.7</td>\n",
        "      <td>10.0</td>\n",
        "      <td>2017-01-09</td>\n",
        "    </tr>\n",
        "    <tr>\n",
        "      <th>11</th>\n",
        "      <td>271.2</td>\n",
        "      <td>267.1</td>\n",
        "      <td>0.24</td>\n",
        "      <td>1516.3</td>\n",
        "      <td>10.2</td>\n",
        "      <td>2016-09-26</td>\n",
        "    </tr>\n",
        "    <tr>\n",
        "      <th>12</th>\n",
        "      <td>265.0</td>\n",
        "      <td>270.7</td>\n",
        "      <td>0.44</td>\n",
        "      <td>1503.5</td>\n",
        "      <td>9.1</td>\n",
        "      <td>2017-02-13</td>\n",
        "    </tr>\n",
        "    <tr>\n",
        "      <th>13</th>\n",
        "      <td>234.1</td>\n",
        "      <td>227.9</td>\n",
        "      <td>0.37</td>\n",
        "      <td>1327.5</td>\n",
        "      <td>9.9</td>\n",
        "      <td>2016-12-12</td>\n",
        "    </tr>\n",
        "    <tr>\n",
        "      <th>14</th>\n",
        "      <td>241.9</td>\n",
        "      <td>242.8</td>\n",
        "      <td>0.63</td>\n",
        "      <td>1494.9</td>\n",
        "      <td>8.5</td>\n",
        "      <td>2016-10-17</td>\n",
        "    </tr>\n",
        "    <tr>\n",
        "      <th>15</th>\n",
        "      <td>242.8</td>\n",
        "      <td>223.6</td>\n",
        "      <td>0.27</td>\n",
        "      <td>1450.0</td>\n",
        "      <td>8.6</td>\n",
        "      <td>2017-02-06</td>\n",
        "    </tr>\n",
        "    <tr>\n",
        "      <th>16</th>\n",
        "      <td>279.4</td>\n",
        "      <td>280.6</td>\n",
        "      <td>0.41</td>\n",
        "      <td>1524.7</td>\n",
        "      <td>9.7</td>\n",
        "      <td>2016-10-24</td>\n",
        "    </tr>\n",
        "    <tr>\n",
        "      <th>17</th>\n",
        "      <td>238.1</td>\n",
        "      <td>226.9</td>\n",
        "      <td>0.27</td>\n",
        "      <td>1416.8</td>\n",
        "      <td>10.8</td>\n",
        "      <td>2017-01-17</td>\n",
        "    </tr>\n",
        "    <tr>\n",
        "      <th>18</th>\n",
        "      <td>274.9</td>\n",
        "      <td>272.4</td>\n",
        "      <td>0.41</td>\n",
        "      <td>1550.0</td>\n",
        "      <td>9.8</td>\n",
        "      <td>2016-10-31</td>\n",
        "    </tr>\n",
        "    <tr>\n",
        "      <th>19</th>\n",
        "      <td>229.6</td>\n",
        "      <td>220.3</td>\n",
        "      <td>0.23</td>\n",
        "      <td>1357.7</td>\n",
        "      <td>9.6</td>\n",
        "      <td>2017-01-23</td>\n",
        "    </tr>\n",
        "    <tr>\n",
        "      <th>20</th>\n",
        "      <td>243.4</td>\n",
        "      <td>257.6</td>\n",
        "      <td>0.34</td>\n",
        "      <td>1531.1</td>\n",
        "      <td>8.1</td>\n",
        "      <td>2016-10-05</td>\n",
        "    </tr>\n",
        "    <tr>\n",
        "      <th>21</th>\n",
        "      <td>233.9</td>\n",
        "      <td>224.6</td>\n",
        "      <td>0.20</td>\n",
        "      <td>1421.2</td>\n",
        "      <td>10.6</td>\n",
        "      <td>2017-01-30</td>\n",
        "    </tr>\n",
        "    <tr>\n",
        "      <th>22</th>\n",
        "      <td>237.4</td>\n",
        "      <td>242.1</td>\n",
        "      <td>0.37</td>\n",
        "      <td>1459.8</td>\n",
        "      <td>10.0</td>\n",
        "      <td>2016-12-05</td>\n",
        "    </tr>\n",
        "  </tbody>\n",
        "</table>\n",
        "</div>"
       ],
       "metadata": {},
       "output_type": "pyout",
       "prompt_number": 124,
       "text": [
        "     SFNR    SNR  drift    mean   rdc    scandate\n",
        "0   243.4  257.6   0.34  1531.1   8.1  2016-10-05\n",
        "1   254.5  261.0   0.31  1450.5   8.6  2017-02-27\n",
        "2   272.7  251.7   0.19  1543.0  10.5  2016-11-07\n",
        "3   175.9  175.6   0.45  1220.2  14.1  2017-01-03\n",
        "4   228.0  224.3   0.28  1431.1   9.0  2016-11-21\n",
        "5   216.0  259.6   0.42  1431.9   9.6  2016-09-19\n",
        "6   219.7  215.0   0.26  1344.0  10.1  2016-12-19\n",
        "7   196.7  220.7   0.27  1432.8   8.6  2016-09-12\n",
        "8   222.9  221.1   0.46  1371.7   9.7  2016-11-28\n",
        "9   231.8  222.0   0.31  1512.1  10.8  2016-11-14\n",
        "10  252.1  250.4   0.28  1412.7  10.0  2017-01-09\n",
        "11  271.2  267.1   0.24  1516.3  10.2  2016-09-26\n",
        "12  265.0  270.7   0.44  1503.5   9.1  2017-02-13\n",
        "13  234.1  227.9   0.37  1327.5   9.9  2016-12-12\n",
        "14  241.9  242.8   0.63  1494.9   8.5  2016-10-17\n",
        "15  242.8  223.6   0.27  1450.0   8.6  2017-02-06\n",
        "16  279.4  280.6   0.41  1524.7   9.7  2016-10-24\n",
        "17  238.1  226.9   0.27  1416.8  10.8  2017-01-17\n",
        "18  274.9  272.4   0.41  1550.0   9.8  2016-10-31\n",
        "19  229.6  220.3   0.23  1357.7   9.6  2017-01-23\n",
        "20  243.4  257.6   0.34  1531.1   8.1  2016-10-05\n",
        "21  233.9  224.6   0.20  1421.2  10.6  2017-01-30\n",
        "22  237.4  242.1   0.37  1459.8  10.0  2016-12-05"
       ]
      }
     ],
     "prompt_number": 124
    },
    {
     "cell_type": "code",
     "collapsed": false,
     "input": [
      "df1=frame.set_index(frame.scandate)"
     ],
     "language": "python",
     "metadata": {},
     "outputs": [],
     "prompt_number": 125
    },
    {
     "cell_type": "code",
     "collapsed": false,
     "input": [
      "del df1['scandate']"
     ],
     "language": "python",
     "metadata": {},
     "outputs": [],
     "prompt_number": 126
    },
    {
     "cell_type": "code",
     "collapsed": false,
     "input": [
      "df1 = df1.sort_index()\n"
     ],
     "language": "python",
     "metadata": {},
     "outputs": [],
     "prompt_number": 127
    },
    {
     "cell_type": "code",
     "collapsed": false,
     "input": [
      "df1"
     ],
     "language": "python",
     "metadata": {},
     "outputs": [
      {
       "html": [
        "<div style=\"max-width:1500px;overflow:auto;\">\n",
        "<table border=\"1\" class=\"dataframe\">\n",
        "  <thead>\n",
        "    <tr style=\"text-align: right;\">\n",
        "      <th></th>\n",
        "      <th>SFNR</th>\n",
        "      <th>SNR</th>\n",
        "      <th>drift</th>\n",
        "      <th>mean</th>\n",
        "      <th>rdc</th>\n",
        "    </tr>\n",
        "    <tr>\n",
        "      <th>scandate</th>\n",
        "      <th></th>\n",
        "      <th></th>\n",
        "      <th></th>\n",
        "      <th></th>\n",
        "      <th></th>\n",
        "    </tr>\n",
        "  </thead>\n",
        "  <tbody>\n",
        "    <tr>\n",
        "      <th>2016-09-12</th>\n",
        "      <td>196.7</td>\n",
        "      <td>220.7</td>\n",
        "      <td>0.27</td>\n",
        "      <td>1432.8</td>\n",
        "      <td>8.6</td>\n",
        "    </tr>\n",
        "    <tr>\n",
        "      <th>2016-09-19</th>\n",
        "      <td>216.0</td>\n",
        "      <td>259.6</td>\n",
        "      <td>0.42</td>\n",
        "      <td>1431.9</td>\n",
        "      <td>9.6</td>\n",
        "    </tr>\n",
        "    <tr>\n",
        "      <th>2016-09-26</th>\n",
        "      <td>271.2</td>\n",
        "      <td>267.1</td>\n",
        "      <td>0.24</td>\n",
        "      <td>1516.3</td>\n",
        "      <td>10.2</td>\n",
        "    </tr>\n",
        "    <tr>\n",
        "      <th>2016-10-05</th>\n",
        "      <td>243.4</td>\n",
        "      <td>257.6</td>\n",
        "      <td>0.34</td>\n",
        "      <td>1531.1</td>\n",
        "      <td>8.1</td>\n",
        "    </tr>\n",
        "    <tr>\n",
        "      <th>2016-10-05</th>\n",
        "      <td>243.4</td>\n",
        "      <td>257.6</td>\n",
        "      <td>0.34</td>\n",
        "      <td>1531.1</td>\n",
        "      <td>8.1</td>\n",
        "    </tr>\n",
        "    <tr>\n",
        "      <th>2016-10-17</th>\n",
        "      <td>241.9</td>\n",
        "      <td>242.8</td>\n",
        "      <td>0.63</td>\n",
        "      <td>1494.9</td>\n",
        "      <td>8.5</td>\n",
        "    </tr>\n",
        "    <tr>\n",
        "      <th>2016-10-24</th>\n",
        "      <td>279.4</td>\n",
        "      <td>280.6</td>\n",
        "      <td>0.41</td>\n",
        "      <td>1524.7</td>\n",
        "      <td>9.7</td>\n",
        "    </tr>\n",
        "    <tr>\n",
        "      <th>2016-10-31</th>\n",
        "      <td>274.9</td>\n",
        "      <td>272.4</td>\n",
        "      <td>0.41</td>\n",
        "      <td>1550.0</td>\n",
        "      <td>9.8</td>\n",
        "    </tr>\n",
        "    <tr>\n",
        "      <th>2016-11-07</th>\n",
        "      <td>272.7</td>\n",
        "      <td>251.7</td>\n",
        "      <td>0.19</td>\n",
        "      <td>1543.0</td>\n",
        "      <td>10.5</td>\n",
        "    </tr>\n",
        "    <tr>\n",
        "      <th>2016-11-14</th>\n",
        "      <td>231.8</td>\n",
        "      <td>222.0</td>\n",
        "      <td>0.31</td>\n",
        "      <td>1512.1</td>\n",
        "      <td>10.8</td>\n",
        "    </tr>\n",
        "    <tr>\n",
        "      <th>2016-11-21</th>\n",
        "      <td>228.0</td>\n",
        "      <td>224.3</td>\n",
        "      <td>0.28</td>\n",
        "      <td>1431.1</td>\n",
        "      <td>9.0</td>\n",
        "    </tr>\n",
        "    <tr>\n",
        "      <th>2016-11-28</th>\n",
        "      <td>222.9</td>\n",
        "      <td>221.1</td>\n",
        "      <td>0.46</td>\n",
        "      <td>1371.7</td>\n",
        "      <td>9.7</td>\n",
        "    </tr>\n",
        "    <tr>\n",
        "      <th>2016-12-05</th>\n",
        "      <td>237.4</td>\n",
        "      <td>242.1</td>\n",
        "      <td>0.37</td>\n",
        "      <td>1459.8</td>\n",
        "      <td>10.0</td>\n",
        "    </tr>\n",
        "    <tr>\n",
        "      <th>2016-12-12</th>\n",
        "      <td>234.1</td>\n",
        "      <td>227.9</td>\n",
        "      <td>0.37</td>\n",
        "      <td>1327.5</td>\n",
        "      <td>9.9</td>\n",
        "    </tr>\n",
        "    <tr>\n",
        "      <th>2016-12-19</th>\n",
        "      <td>219.7</td>\n",
        "      <td>215.0</td>\n",
        "      <td>0.26</td>\n",
        "      <td>1344.0</td>\n",
        "      <td>10.1</td>\n",
        "    </tr>\n",
        "    <tr>\n",
        "      <th>2017-01-03</th>\n",
        "      <td>175.9</td>\n",
        "      <td>175.6</td>\n",
        "      <td>0.45</td>\n",
        "      <td>1220.2</td>\n",
        "      <td>14.1</td>\n",
        "    </tr>\n",
        "    <tr>\n",
        "      <th>2017-01-09</th>\n",
        "      <td>252.1</td>\n",
        "      <td>250.4</td>\n",
        "      <td>0.28</td>\n",
        "      <td>1412.7</td>\n",
        "      <td>10.0</td>\n",
        "    </tr>\n",
        "    <tr>\n",
        "      <th>2017-01-17</th>\n",
        "      <td>238.1</td>\n",
        "      <td>226.9</td>\n",
        "      <td>0.27</td>\n",
        "      <td>1416.8</td>\n",
        "      <td>10.8</td>\n",
        "    </tr>\n",
        "    <tr>\n",
        "      <th>2017-01-23</th>\n",
        "      <td>229.6</td>\n",
        "      <td>220.3</td>\n",
        "      <td>0.23</td>\n",
        "      <td>1357.7</td>\n",
        "      <td>9.6</td>\n",
        "    </tr>\n",
        "    <tr>\n",
        "      <th>2017-01-30</th>\n",
        "      <td>233.9</td>\n",
        "      <td>224.6</td>\n",
        "      <td>0.20</td>\n",
        "      <td>1421.2</td>\n",
        "      <td>10.6</td>\n",
        "    </tr>\n",
        "    <tr>\n",
        "      <th>2017-02-06</th>\n",
        "      <td>242.8</td>\n",
        "      <td>223.6</td>\n",
        "      <td>0.27</td>\n",
        "      <td>1450.0</td>\n",
        "      <td>8.6</td>\n",
        "    </tr>\n",
        "    <tr>\n",
        "      <th>2017-02-13</th>\n",
        "      <td>265.0</td>\n",
        "      <td>270.7</td>\n",
        "      <td>0.44</td>\n",
        "      <td>1503.5</td>\n",
        "      <td>9.1</td>\n",
        "    </tr>\n",
        "    <tr>\n",
        "      <th>2017-02-27</th>\n",
        "      <td>254.5</td>\n",
        "      <td>261.0</td>\n",
        "      <td>0.31</td>\n",
        "      <td>1450.5</td>\n",
        "      <td>8.6</td>\n",
        "    </tr>\n",
        "  </tbody>\n",
        "</table>\n",
        "</div>"
       ],
       "metadata": {},
       "output_type": "pyout",
       "prompt_number": 135,
       "text": [
        "             SFNR    SNR  drift    mean   rdc\n",
        "scandate                                     \n",
        "2016-09-12  196.7  220.7   0.27  1432.8   8.6\n",
        "2016-09-19  216.0  259.6   0.42  1431.9   9.6\n",
        "2016-09-26  271.2  267.1   0.24  1516.3  10.2\n",
        "2016-10-05  243.4  257.6   0.34  1531.1   8.1\n",
        "2016-10-05  243.4  257.6   0.34  1531.1   8.1\n",
        "2016-10-17  241.9  242.8   0.63  1494.9   8.5\n",
        "2016-10-24  279.4  280.6   0.41  1524.7   9.7\n",
        "2016-10-31  274.9  272.4   0.41  1550.0   9.8\n",
        "2016-11-07  272.7  251.7   0.19  1543.0  10.5\n",
        "2016-11-14  231.8  222.0   0.31  1512.1  10.8\n",
        "2016-11-21  228.0  224.3   0.28  1431.1   9.0\n",
        "2016-11-28  222.9  221.1   0.46  1371.7   9.7\n",
        "2016-12-05  237.4  242.1   0.37  1459.8  10.0\n",
        "2016-12-12  234.1  227.9   0.37  1327.5   9.9\n",
        "2016-12-19  219.7  215.0   0.26  1344.0  10.1\n",
        "2017-01-03  175.9  175.6   0.45  1220.2  14.1\n",
        "2017-01-09  252.1  250.4   0.28  1412.7  10.0\n",
        "2017-01-17  238.1  226.9   0.27  1416.8  10.8\n",
        "2017-01-23  229.6  220.3   0.23  1357.7   9.6\n",
        "2017-01-30  233.9  224.6   0.20  1421.2  10.6\n",
        "2017-02-06  242.8  223.6   0.27  1450.0   8.6\n",
        "2017-02-13  265.0  270.7   0.44  1503.5   9.1\n",
        "2017-02-27  254.5  261.0   0.31  1450.5   8.6"
       ]
      }
     ],
     "prompt_number": 135
    },
    {
     "cell_type": "code",
     "collapsed": false,
     "input": [
      "import matplotlib\n",
      "import matplotlib.pyplot as plt\n",
      "%matplotlib inline\n",
      "matplotlib.style.use('ggplot')\n"
     ],
     "language": "python",
     "metadata": {},
     "outputs": [],
     "prompt_number": 132
    },
    {
     "cell_type": "code",
     "collapsed": false,
     "input": [
      "plt.figure(); df1['SNR'].plot(style='o', ylim=(100,400),title='SNR')"
     ],
     "language": "python",
     "metadata": {},
     "outputs": [
      {
       "metadata": {},
       "output_type": "pyout",
       "prompt_number": 142,
       "text": [
        "<matplotlib.axes._subplots.AxesSubplot at 0x7f743f206950>"
       ]
      },
      {
       "metadata": {},
       "output_type": "display_data",
       "png": "[encoded data removed]",
       "text": [
        "<matplotlib.figure.Figure at 0x7f743f228910>"
       ]
      }
     ],
     "prompt_number": 142
    },
    {
     "cell_type": "code",
     "collapsed": false,
     "input": [
      "plt.figure(); df1['SFNR'].plot(style='o', ylim=(100,400),title='SFNR')"
     ],
     "language": "python",
     "metadata": {},
     "outputs": [
      {
       "metadata": {},
       "output_type": "pyout",
       "prompt_number": 143,
       "text": [
        "<matplotlib.axes._subplots.AxesSubplot at 0x7f743ef1ba10>"
       ]
      },
      {
       "metadata": {},
       "output_type": "display_data",
       "png": "[encoded data removed]",
       "text": [
        "<matplotlib.figure.Figure at 0x7f743ef0c8d0>"
       ]
      }
     ],
     "prompt_number": 143
    },
    {
     "cell_type": "code",
     "collapsed": false,
     "input": [
      "plt.figure(); df1['mean'].plot(style='o', ylim=(1000,2000),title='mean signal')"
     ],
     "language": "python",
     "metadata": {},
     "outputs": [
      {
       "metadata": {},
       "output_type": "pyout",
       "prompt_number": 146,
       "text": [
        "<matplotlib.axes._subplots.AxesSubplot at 0x7f743f671610>"
       ]
      },
      {
       "metadata": {},
       "output_type": "display_data",
       "png": "[encoded data removed]",
       "text": [
        "<matplotlib.figure.Figure at 0x7f743f312310>"
       ]
      }
     ],
     "prompt_number": 146
    },
    {
     "cell_type": "code",
     "collapsed": false,
     "input": [
      "plt.figure(); df1['drift'].plot(style='o', ylim=(0,1),title='drift')"
     ],
     "language": "python",
     "metadata": {},
     "outputs": [
      {
       "metadata": {},
       "output_type": "pyout",
       "prompt_number": 148,
       "text": [
        "<matplotlib.axes._subplots.AxesSubplot at 0x7f743f289c90>"
       ]
      },
      {
       "metadata": {},
       "output_type": "display_data",
       "png": "[encoded data removed]",
       "text": [
        "<matplotlib.figure.Figure at 0x7f743f34a5d0>"
       ]
      }
     ],
     "prompt_number": 148
    },
    {
     "cell_type": "code",
     "collapsed": false,
     "input": [
      "plt.figure(); df1['rdc'].plot(style='o', ylim=(0,20),title='rdc from Weissman')"
     ],
     "language": "python",
     "metadata": {},
     "outputs": [
      {
       "metadata": {},
       "output_type": "pyout",
       "prompt_number": 162,
       "text": [
        "<matplotlib.axes._subplots.AxesSubplot at 0x7f743e994f10>"
       ]
      },
      {
       "metadata": {},
       "output_type": "display_data",
       "png": "[encoded data removed]",
       "text": [
        "<matplotlib.figure.Figure at 0x7f743e9a2c90>"
       ]
      }
     ],
     "prompt_number": 162
    },
    {
     "cell_type": "code",
     "collapsed": false,
     "input": [
      "plt.figure(); df1.plot(x = 'SFNR', y = 'SNR',style='o', ylim=(150,350),xlim = (150,350),title='SFNR vs. SNR')"
     ],
     "language": "python",
     "metadata": {},
     "outputs": [
      {
       "metadata": {},
       "output_type": "pyout",
       "prompt_number": 159,
       "text": [
        "<matplotlib.axes._subplots.AxesSubplot at 0x7f743eba3510>"
       ]
      },
      {
       "metadata": {},
       "output_type": "display_data",
       "text": [
        "<matplotlib.figure.Figure at 0x7f743ec98f90>"
       ]
      },
      {
       "metadata": {},
       "output_type": "display_data",
       "png": "[encoded data removed]",
       "text": [
        "<matplotlib.figure.Figure at 0x7f743ef96b50>"
       ]
      }
     ],
     "prompt_number": 159
    },
    {
     "cell_type": "code",
     "collapsed": false,
     "input": [],
     "language": "python",
     "metadata": {},
     "outputs": []
    }
   ],
   "metadata": {}
  }
 ]
}