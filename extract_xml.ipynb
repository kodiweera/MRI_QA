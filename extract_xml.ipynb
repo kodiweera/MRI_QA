{
 "metadata": {
  "name": "",
  "signature": "sha256:8b0593ee551b2665a2908e7bc7a542da44eae0e92addf5972a33f09ea0486daa"
 },
 "nbformat": 3,
 "nbformat_minor": 0,
 "worksheets": [
  {
   "cells": [
    {
     "cell_type": "code",
     "collapsed": false,
     "input": [
      "from lxml import etree"
     ],
     "language": "python",
     "metadata": {},
     "outputs": [],
     "prompt_number": 1
    },
    {
     "cell_type": "code",
     "collapsed": false,
     "input": [
      "filename = 'summaryQA.xml'"
     ],
     "language": "python",
     "metadata": {},
     "outputs": [],
     "prompt_number": 5
    },
    {
     "cell_type": "code",
     "collapsed": false,
     "input": [
      "e = etree.parse(filename).getroot()"
     ],
     "language": "python",
     "metadata": {},
     "outputs": [],
     "prompt_number": 6
    },
    {
     "cell_type": "code",
     "collapsed": false,
     "input": [
      "{\n",
      "    k: t(e.xpath(\n",
      "        \"//a:observation[@name='%s']\" % k,\n",
      "        namespaces={'a': 'http://www.xcede.org/xcede-2'})[0].text)\n",
      "    for k, t in (('SNR', float), ('SFNR', float), ('scandate', str), ('drift',float), ('mean',float),('rdc',float))\n",
      " }"
     ],
     "language": "python",
     "metadata": {},
     "outputs": [
      {
       "metadata": {},
       "output_type": "pyout",
       "prompt_number": 11,
       "text": [
        "{'SFNR': 175.9,\n",
        " 'SNR': 175.6,\n",
        " 'drift': 0.45,\n",
        " 'mean': 1220.2,\n",
        " 'rdc': 14.1,\n",
        " 'scandate': '2017-01-03'}"
       ]
      }
     ],
     "prompt_number": 11
    },
    {
     "cell_type": "code",
     "collapsed": false,
     "input": [],
     "language": "python",
     "metadata": {},
     "outputs": []
    }
   ],
   "metadata": {}
  }
 ]
}