{
 "metadata": {
  "name": "",
  "signature": "sha256:751c7e731ed98a7994d5a7444250c601c12dc4ae202948fa3ce3c99ad53bd43c"
 },
 "nbformat": 3,
 "nbformat_minor": 0,
 "worksheets": [
  {
   "cells": [
    {
     "cell_type": "code",
     "collapsed": false,
     "input": [
      "from lxml import etree"
     ],
     "language": "python",
     "metadata": {},
     "outputs": [],
     "prompt_number": 1
    },
    {
     "cell_type": "code",
     "collapsed": false,
     "input": [
      "filename = '/data/QA/prisma/32CH/01032017/boldp2/result/summaryQA.xml'"
     ],
     "language": "python",
     "metadata": {},
     "outputs": [],
     "prompt_number": 2
    },
    {
     "cell_type": "code",
     "collapsed": false,
     "input": [
      "e = etree.parse(filename).getroot()"
     ],
     "language": "python",
     "metadata": {},
     "outputs": [],
     "prompt_number": 3
    },
    {
     "cell_type": "code",
     "collapsed": false,
     "input": [
      "{\n",
      "    k: t(e.xpath(\n",
      "        \"//a:observation[@name='%s']\" % k,\n",
      "        namespaces={'a': 'http://www.xcede.org/xcede-2'})[0].text)\n",
      "    for k, t in (('SNR', float), ('SFNR', float), ('scandate', str))\n",
      " }"
     ],
     "language": "python",
     "metadata": {},
     "outputs": [
      {
       "metadata": {},
       "output_type": "pyout",
       "prompt_number": 4,
       "text": [
        "{'SFNR': 175.9, 'SNR': 175.6, 'scandate': '2017-01-03'}"
       ]
      }
     ],
     "prompt_number": 4
    },
    {
     "cell_type": "code",
     "collapsed": false,
     "input": [],
     "language": "python",
     "metadata": {},
     "outputs": []
    }
   ],
   "metadata": {}
  }
 ]
}