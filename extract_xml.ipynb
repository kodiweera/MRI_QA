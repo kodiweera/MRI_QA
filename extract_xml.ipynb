{
 "metadata": {
  "name": "",
  "signature": "sha256:d6ea8f933af47dc916f788aaade6d9be0e10ea4ec626e2b081658ca415fb2816"
 },
 "nbformat": 3,
 "nbformat_minor": 0,
 "worksheets": [
  {
   "cells": [
    {
     "cell_type": "code",
     "collapsed": false,
     "input": [
      "from lxml import etree"
     ],
     "language": "python",
     "metadata": {},
     "outputs": [],
     "prompt_number": 1
    },
    {
     "cell_type": "code",
     "collapsed": false,
     "input": [
      "filename = 'summaryQA.xml'"
     ],
     "language": "python",
     "metadata": {},
     "outputs": [],
     "prompt_number": 5
    },
    {
     "cell_type": "code",
     "collapsed": false,
     "input": [
      "e = etree.parse(filename).getroot()"
     ],
     "language": "python",
     "metadata": {},
     "outputs": [],
     "prompt_number": 6
    },
    {
     "cell_type": "code",
     "collapsed": false,
     "input": [
      "{\n",
      "    k: t(e.xpath(\n",
      "        \"//a:observation[@name='%s']\" % k,\n",
      "        namespaces={'a': 'http://www.xcede.org/xcede-2'})[0].text)\n",
      "    for k, t in (('SNR', float), ('SFNR', float), ('scandate', str))\n",
      " }"
     ],
     "language": "python",
     "metadata": {},
     "outputs": [
      {
       "metadata": {},
       "output_type": "pyout",
       "prompt_number": 7,
       "text": [
        "{'SFNR': 175.9, 'SNR': 175.6, 'scandate': '2017-01-03'}"
       ]
      }
     ],
     "prompt_number": 7
    },
    {
     "cell_type": "code",
     "collapsed": false,
     "input": [],
     "language": "python",
     "metadata": {},
     "outputs": []
    }
   ],
   "metadata": {}
  }
 ]
}