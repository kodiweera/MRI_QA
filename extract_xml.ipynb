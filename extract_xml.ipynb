{
 "metadata": {
  "name": "",
  "signature": "sha256:df94bccd1979221d7ada13251f1c02d84e84fdb2166b8bd89933a3f1ea24e02f"
 },
 "nbformat": 3,
 "nbformat_minor": 0,
 "worksheets": [
  {
   "cells": [
    {
     "cell_type": "code",
     "collapsed": false,
     "input": [
      "from lxml import etree"
     ],
     "language": "python",
     "metadata": {},
     "outputs": [],
     "prompt_number": 1
    },
    {
     "cell_type": "code",
     "collapsed": false,
     "input": [
      "filename = 'summaryQA.xml'"
     ],
     "language": "python",
     "metadata": {},
     "outputs": [],
     "prompt_number": 5
    },
    {
     "cell_type": "code",
     "collapsed": false,
     "input": [
      "e = etree.parse(filename).getroot()"
     ],
     "language": "python",
     "metadata": {},
     "outputs": [],
     "prompt_number": 19
    },
    {
     "cell_type": "code",
     "collapsed": false,
     "input": [
      "data = {\n",
      "    k: t(e.xpath(\n",
      "        \"//a:observation[@name='%s']\" % k,\n",
      "        namespaces={'a': 'http://www.xcede.org/xcede-2'})[0].text)\n",
      "    for k, t in (('SNR', float), ('SFNR', float), ('scandate', str), ('drift',float), ('mean',float),('rdc',float))\n",
      " }"
     ],
     "language": "python",
     "metadata": {},
     "outputs": [],
     "prompt_number": 13
    },
    {
     "cell_type": "code",
     "collapsed": false,
     "input": [
      "data"
     ],
     "language": "python",
     "metadata": {},
     "outputs": [
      {
       "metadata": {},
       "output_type": "pyout",
       "prompt_number": 16,
       "text": [
        "{'SFNR': 175.9,\n",
        " 'SNR': 175.6,\n",
        " 'drift': 0.45,\n",
        " 'mean': 1220.2,\n",
        " 'rdc': 14.1,\n",
        " 'scandate': '2017-01-03'}"
       ]
      }
     ],
     "prompt_number": 16
    },
    {
     "cell_type": "code",
     "collapsed": false,
     "input": [
      "import pandas as pd"
     ],
     "language": "python",
     "metadata": {},
     "outputs": [],
     "prompt_number": 12
    },
    {
     "cell_type": "code",
     "collapsed": false,
     "input": [
      "frame = pd.DataFrame(data, index = [0])"
     ],
     "language": "python",
     "metadata": {},
     "outputs": [],
     "prompt_number": 20
    },
    {
     "cell_type": "code",
     "collapsed": false,
     "input": [
      "frame"
     ],
     "language": "python",
     "metadata": {},
     "outputs": [
      {
       "html": [
        "<div style=\"max-width:1500px;overflow:auto;\">\n",
        "<table border=\"1\" class=\"dataframe\">\n",
        "  <thead>\n",
        "    <tr style=\"text-align: right;\">\n",
        "      <th></th>\n",
        "      <th>SFNR</th>\n",
        "      <th>SNR</th>\n",
        "      <th>drift</th>\n",
        "      <th>mean</th>\n",
        "      <th>rdc</th>\n",
        "      <th>scandate</th>\n",
        "    </tr>\n",
        "  </thead>\n",
        "  <tbody>\n",
        "    <tr>\n",
        "      <th>0</th>\n",
        "      <td>175.9</td>\n",
        "      <td>175.6</td>\n",
        "      <td>0.45</td>\n",
        "      <td>1220.2</td>\n",
        "      <td>14.1</td>\n",
        "      <td>2017-01-03</td>\n",
        "    </tr>\n",
        "  </tbody>\n",
        "</table>\n",
        "</div>"
       ],
       "metadata": {},
       "output_type": "pyout",
       "prompt_number": 21,
       "text": [
        "    SFNR    SNR  drift    mean   rdc    scandate\n",
        "0  175.9  175.6   0.45  1220.2  14.1  2017-01-03"
       ]
      }
     ],
     "prompt_number": 21
    },
    {
     "cell_type": "code",
     "collapsed": false,
     "input": [],
     "language": "python",
     "metadata": {},
     "outputs": []
    }
   ],
   "metadata": {}
  }
 ]
}